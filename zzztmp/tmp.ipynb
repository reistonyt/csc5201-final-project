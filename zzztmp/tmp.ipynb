{
 "cells": [
  {
   "cell_type": "code",
   "execution_count": 4,
   "metadata": {},
   "outputs": [],
   "source": [
    "import feedparser\n",
    "import os\n",
    "import psycopg2"
   ]
  },
  {
   "cell_type": "code",
   "execution_count": 29,
   "metadata": {},
   "outputs": [],
   "source": [
    "conn = psycopg2.connect(\n",
    "    dbname='newsagg',\n",
    "    user='reis',\n",
    "    password='qonkAq-rugmaq',\n",
    "    host='207.231.109.59',\n",
    "    port='5432'\n",
    ")\n",
    "\n",
    "cur = conn.cursor()"
   ]
  },
  {
   "cell_type": "code",
   "execution_count": 2,
   "metadata": {},
   "outputs": [
    {
     "name": "stdout",
     "output_type": "stream",
     "text": [
      "Oil settles higher after Israeli strike overshadows ceasefire talks - 2024-04-10 19:25:49 - https://www.investing.com/news/commodities-news/oil-steady-as-us-crude-stock-build-offsets-middle-east-uncertainty-3372312\n",
      "Arizona ruling puts abortion at center of 2024 presidential election - 2024-04-10 19:21:32 - https://www.investing.com/news/world-news/arizona-ruling-puts-abortion-at-center-of-2024-presidential-election-3373732\n",
      "US electricity and gasoline prices push up energy sector inflation - 2024-04-10 19:21:04 - https://www.investing.com/news/economic-indicators/us-electricity-and-gasoline-prices-push-up-energy-sector-inflation-3373731\n",
      "Creatd projects $2M revenue, plans growth and acquisitions - 2024-04-10 19:20:58 - https://www.investing.com/news/company-news/creatd-projects-2m-revenue-plans-growth-and-acquisitions-93CH-3373730\n",
      "Factbox-US, Japan strike deals on defense, space at leaders' summit - 2024-04-10 19:17:36 - https://www.investing.com/news/stock-market-news/factboxus-japan-to-strike-deals-on-defense-space-at-leaders-summit-3372325\n",
      "Biden, Japan's Kishida pledge united front versus China - 2024-04-10 19:17:01 - https://www.investing.com/news/world-news/biden-welcomes-global-partner-japans-kishida-at-white-house-summit-3372559\n",
      "Herbalife Activates on Mexican Olympic Committee Partnership with Nutrition and Conditioning Training at Proactive Sports in Westlake Village - 2024-04-10 19:16:10 - https://www.investing.com/news/press-releases/herbalife-activates-on-mexican-olympic-committee-partnership-with-nutrition-and-conditioning-training-at-proactive-sports-in-westlake-village-93CH-3373729\n",
      "Mexco energy secretary Stacy Hardin trades over $22k in company stock - 2024-04-10 19:13:12 - https://www.investing.com/news/company-news/mexco-energy-secretary-stacy-hardin-trades-over-22k-in-company-stock-93CH-3373728\n",
      "Union Pacific's Famed ˜Big Boy No. 4014' Preparing for Westward Summer Tour - 2024-04-10 19:12:05 - https://www.investing.com/news/press-releases/union-pacifics-famed-big-boy-no-4014-preparing-for-westward-summer-tour-93CH-3373727\n",
      "Hope Bancorp to Report 2024 First Quarter Financial Results on Monday, April 29, 2024 - 2024-04-10 19:12:05 - https://www.investing.com/news/press-releases/hope-bancorp-to-report-2024-first-quarter-financial-results-on-monday-april-29-2024-93CH-3373725\n",
      "t1 is later than t2\n"
     ]
    }
   ],
   "source": [
    "rss = \"https://www.investing.com/rss/news.rss\"\n",
    "\n",
    "# Parse the feed\n",
    "feed = feedparser.parse(rss)\n",
    "entries = feed.entries\n",
    "\n",
    "for entry in entries:\n",
    "    title = entry.title\n",
    "    link = entry.link\n",
    "    timestamp = entry.published\n",
    "    print(f\"{title} - {timestamp} - {link}\")\n",
    "    \n",
    "t1 = \"2024-04-10 02:36:22\"\n",
    "t2 = \"2024-04-10 02:31:36\"\n",
    "\n",
    "# Convert to datetime objects\n",
    "from datetime import datetime\n",
    "t1 = datetime.strptime(t1, \"%Y-%m-%d %H:%M:%S\")\n",
    "t2 = datetime.strptime(t2, \"%Y-%m-%d %H:%M:%S\")\n",
    "\n",
    "if t1 > t2:\n",
    "    print(\"t1 is later than t2\")"
   ]
  }
 ],
 "metadata": {
  "kernelspec": {
   "display_name": ".venv",
   "language": "python",
   "name": "python3"
  },
  "language_info": {
   "codemirror_mode": {
    "name": "ipython",
    "version": 3
   },
   "file_extension": ".py",
   "mimetype": "text/x-python",
   "name": "python",
   "nbconvert_exporter": "python",
   "pygments_lexer": "ipython3",
   "version": "3.10.12"
  }
 },
 "nbformat": 4,
 "nbformat_minor": 2
}
