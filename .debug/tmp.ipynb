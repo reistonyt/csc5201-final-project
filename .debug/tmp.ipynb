{
 "cells": [
  {
   "cell_type": "code",
   "execution_count": 18,
   "metadata": {},
   "outputs": [],
   "source": [
    "import feedparser\n",
    "import os\n",
    "import psycopg2\n",
    "import configparser\n",
    "import json\n"
   ]
  },
  {
   "cell_type": "code",
   "execution_count": 2,
   "metadata": {},
   "outputs": [],
   "source": [
    "conn = psycopg2.connect(\n",
    "    dbname='newsagg',\n",
    "    user='reis',\n",
    "    password='qonkAq-rugmaq',\n",
    "    host='207.231.109.59',\n",
    "    port=5432\n",
    ")\n",
    "\n",
    "c = conn.cursor()"
   ]
  },
  {
   "cell_type": "code",
   "execution_count": 29,
   "metadata": {},
   "outputs": [
    {
     "data": {
      "text/plain": [
       "[{'provider': 'Investing.com',\n",
       "  'rss_link': 'https://www.investing.com/rss/news.rss'}]"
      ]
     },
     "execution_count": 29,
     "metadata": {},
     "output_type": "execute_result"
    }
   ],
   "source": [
    "c.execute('SELECT * FROM rss_links')\n",
    "\n",
    "headers = [desc[0] for desc in c.description]\n",
    "results = c.fetchall()\n",
    "\n",
    "[dict(zip(headers, row)) for row in results]"
   ]
  },
  {
   "cell_type": "code",
   "execution_count": 27,
   "metadata": {},
   "outputs": [
    {
     "data": {
      "text/plain": [
       "[('Investing.com', 'https://www.investing.com/rss/news.rss')]"
      ]
     },
     "execution_count": 27,
     "metadata": {},
     "output_type": "execute_result"
    }
   ],
   "source": [
    "results"
   ]
  },
  {
   "cell_type": "code",
   "execution_count": null,
   "metadata": {},
   "outputs": [],
   "source": [
    "rss = \"https://www.investing.com/rss/news.rss\"\n",
    "\n",
    "# Parse the feed\n",
    "feed = feedparser.parse(rss)\n",
    "entries = feed.entries\n",
    "\n",
    "for entry in entries:\n",
    "    title = entry.title\n",
    "    link = entry.link\n",
    "    timestamp = entry.published\n",
    "    print(f\"{title} - {timestamp} - {link}\")\n",
    "    \n",
    "t1 = \"2024-04-10 02:36:22\"\n",
    "t2 = \"2024-04-10 02:31:36\"\n",
    "\n",
    "# Convert to datetime objects\n",
    "from datetime import datetime\n",
    "t1 = datetime.strptime(t1, \"%Y-%m-%d %H:%M:%S\")\n",
    "t2 = datetime.strptime(t2, \"%Y-%m-%d %H:%M:%S\")\n",
    "\n",
    "if t1 > t2:\n",
    "    print(\"t1 is later than t2\")"
   ]
  },
  {
   "cell_type": "code",
   "execution_count": null,
   "metadata": {},
   "outputs": [],
   "source": []
  }
 ],
 "metadata": {
  "kernelspec": {
   "display_name": ".venv",
   "language": "python",
   "name": "python3"
  },
  "language_info": {
   "codemirror_mode": {
    "name": "ipython",
    "version": 3
   },
   "file_extension": ".py",
   "mimetype": "text/x-python",
   "name": "python",
   "nbconvert_exporter": "python",
   "pygments_lexer": "ipython3",
   "version": "3.10.12"
  }
 },
 "nbformat": 4,
 "nbformat_minor": 2
}
