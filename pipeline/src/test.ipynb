{
 "cells": [
  {
   "cell_type": "code",
   "execution_count": null,
   "metadata": {},
   "outputs": [],
   "source": [
    "from newsapi import NewsApiClient\n",
    "import requests\n",
    "\n",
    "client = NewsApiClient(api_key='617481ae9590480382fe8b52d1248432')"
   ]
  },
  {
   "cell_type": "code",
   "execution_count": null,
   "metadata": {},
   "outputs": [],
   "source": [
    "base = 'https://newsapi.org/v2/everything?'\n",
    "\n",
    "domains = 'domains=investing.com'\n",
    "language = 'language=en'\n",
    "from_param = 'from=2024-04-12'\n",
    "sortBy = 'sortBy=publishedAt'\n",
    "apiKey = 'apiKey=617481ae9590480382fe8b52d1248432'\n",
    "\n",
    "url = f'{base}{domains}&{language}&{from_param}&{sortBy}&{apiKey}'\n",
    "\n",
    "response = requests.get(url)\n",
    "\n",
    "response.json()\n",
    "\n"
   ]
  },
  {
   "cell_type": "code",
   "execution_count": null,
   "metadata": {},
   "outputs": [],
   "source": [
    "\n",
    "while True:\n",
    "    articles = client.get_everything(\n",
    "        domains='investing.com',\n",
    "        language='en',\n",
    "        from_param='2024-04-12',\n",
    "        sort_by='publishedAt'\n",
    "    )\n",
    "    print(articles)"
   ]
  }
 ],
 "metadata": {
  "kernelspec": {
   "display_name": ".venv",
   "language": "python",
   "name": "python3"
  },
  "language_info": {
   "codemirror_mode": {
    "name": "ipython",
    "version": 3
   },
   "file_extension": ".py",
   "mimetype": "text/x-python",
   "name": "python",
   "nbconvert_exporter": "python",
   "pygments_lexer": "ipython3",
   "version": "3.10.12"
  }
 },
 "nbformat": 4,
 "nbformat_minor": 2
}
